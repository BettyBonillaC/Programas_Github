{
 "cells": [
  {
   "cell_type": "code",
   "execution_count": 1,
   "id": "afbf08c2",
   "metadata": {},
   "outputs": [],
   "source": [
    "# This program generates dates using the MBBG stochastic model. \n",
    "# 15 de enero de 2024\n",
    "# Beatriz Bonilla-Capilla"
   ]
  },
  {
   "cell_type": "code",
   "execution_count": 2,
   "id": "56b32d60",
   "metadata": {},
   "outputs": [
    {
     "name": "stdout",
     "output_type": "stream",
     "text": [
      "G1: 0.1289971085925929\n",
      "G2: -1.0439397581071364\n"
     ]
    }
   ],
   "source": [
    "import random\n",
    "import math\n",
    "import numpy as np\n",
    "def generate():\n",
    "    while True:\n",
    "        V1 =(np.random.rand()*2) - 1.0\n",
    "        V2 =(np.random.rand()*2) - 1.0\n",
    "        W = V1 * V1 + V2 * V2\n",
    "        if (W < 1.0):\n",
    "            LW = math.log(W) / W\n",
    "            LW = math.sqrt(-2.0 * LW)\n",
    "            G1 = V1 * LW\n",
    "            G2 = V2 * LW\n",
    "    \n",
    "            return G1, G2\n",
    "\n",
    "# Ejemplo de uso:\n",
    "G1, G2 = generate()\n",
    "print(\"G1:\", G1)\n",
    "print(\"G2:\", G2)"
   ]
  },
  {
   "cell_type": "code",
   "execution_count": 3,
   "id": "ed5997ef",
   "metadata": {},
   "outputs": [],
   "source": [
    "def HW(dta):\n",
    "    #subroutina que usa generate para obtener W(t)\n",
    "    g1,g2=generate()\n",
    "    w1=g1\n",
    "    w2=g2\n",
    "    dw=(g2-g1)*np.sqrt(dta)\n",
    "    return dw"
   ]
  },
  {
   "cell_type": "code",
   "execution_count": 4,
   "id": "76155c26",
   "metadata": {},
   "outputs": [],
   "source": [
    "def estocasticaxM(nobs,a,s,b,T,n,x0,t):\n",
    "    n1=len(t)\n",
    "    x2=np.zeros(n1)\n",
    "\n",
    "    for k in range(0,n1):\n",
    "        sumaE=0\n",
    "        for i in range(k-1):\n",
    "            #print('tk','ti',t[i+1]-t[i])\n",
    "            dta=t[i+1]-t[i]\n",
    "            sumaE=sumaE+np.exp(-b*(t[k]-t[i]))*HW(dta)\n",
    "        r=(a-(s**2)/2.)/b\n",
    "        #print(sumaE)\n",
    "        x2[k]=nobs*np.exp(r+(np.log(x0/nobs)-r)*np.exp(-b*t[k])+ s*sumaE) #la parte estocástica\n",
    "    return x2"
   ]
  },
  {
   "cell_type": "code",
   "execution_count": null,
   "id": "63e6702f",
   "metadata": {},
   "outputs": [],
   "source": []
  },
  {
   "cell_type": "code",
   "execution_count": 5,
   "id": "bd6a9050",
   "metadata": {},
   "outputs": [],
   "source": [
    "def EstimacionA(nobs,s,b,x0,xT,T,t,x2):# b,x0,T,tiempo t, x(t)\n",
    "    sumLog=0\n",
    "    n1=len(t)\n",
    "    #print('nt a',nt)\n",
    "    for i in range(0,n1-1):\n",
    "        #print(i, i+1)\n",
    "        dl2=np.log(x2[i+1])+np.log(x2[i]) # los datos estan en x2\n",
    "        dt=t[i+1]-t[i]\n",
    "        #print(dl*dt)\n",
    "        sumLog=sumLog+dl2*dt\n",
    "        #print(sumLog)\n",
    "    Esti_a=s**2/2.+(1/T)*(np.log(x2[-1])-np.log(x0)+(b/2.)*sumLog)\n",
    "    Esti_alpha=Esti_a-b*np.log(nobs)\n",
    "    return Esti_alpha "
   ]
  },
  {
   "cell_type": "code",
   "execution_count": 6,
   "id": "4147099f",
   "metadata": {},
   "outputs": [],
   "source": [
    "def EstimacionB(s,x0,xT,T,t,x2):# b,x0,T,tiempo t, x(t)\n",
    "    n1=len(t)\n",
    "    #print('b nt',nt)\n",
    "    # Primera Sumatoria en el numerador es igual a la primera sumatoria en el denominador\n",
    "    sumLog1=0\n",
    "    \n",
    "    for i in range(0,n1-1):\n",
    "        #print(i, i+1)\n",
    "        dl2=np.log(x2[i+1])+np.log(x2[i]) # los datos estan en x2\n",
    "        dt=t[i+1]-t[i]\n",
    "        #print(dl*dt)\n",
    "        sumLog1=sumLog1+dl2*dt\n",
    "    \n",
    "   \n",
    "    ## segunda Sumatoria en el denominador\n",
    "    sumLog3=0\n",
    "    \n",
    "    for i in range(0,n1-1):\n",
    "        #print(i, i+1)\n",
    "        dl2=(np.log(x2[i+1]))**2+(np.log(x2[i]))**2 # los datos estan en x2\n",
    "        dt=t[i+1]-t[i]\n",
    "        #print(dl*dt)\n",
    "        sumLog3=sumLog3+dl2*dt\n",
    "    #\n",
    "        #print(sumLog)\n",
    "    Esti_b0=(T)*((np.log(x2[-1]))**2-(np.log(x0))**2-(s**2)*T)\n",
    "    Esti_b1=Esti_b0-(np.log(x2[-1])-np.log(x0))*sumLog1\n",
    "    Esti_b2=(1/2)*(sumLog1)**2-T*(sumLog3)\n",
    "    Esti_b=Esti_b1/Esti_b2\n",
    "    return Esti_b"
   ]
  },
  {
   "cell_type": "code",
   "execution_count": 7,
   "id": "0431a8a7",
   "metadata": {},
   "outputs": [],
   "source": [
    "import time"
   ]
  },
  {
   "cell_type": "code",
   "execution_count": 8,
   "id": "0aaab1ed",
   "metadata": {},
   "outputs": [],
   "source": [
    "def DatosGeneradosEstimacion_ABS(nobs,a,s,b,x0,T,n,np2): #np2 es el número de corridas\n",
    "    t=np.linspace(0,T,n)\n",
    "    n1=len(t)\n",
    "    \n",
    "    TN=t[n-1]\n",
    "    #print(nt1)\n",
    "    #print(TN)\n",
    "    x2_varios=np.zeros([np2,n1])\n",
    "    inicio=time.time() #--- medir el tiempo inicio\n",
    "    for l in range(np2):\n",
    "        x2_estocastica=estocasticaxM(nobs,a,s,b,T,n,x0,t)\n",
    "    #print(l,len(parte_estocastica),parte_estocastica)\n",
    "     #la parte estocástica\n",
    "    #print(x2_var)\n",
    "        x2_varios[l,:]=x2_estocastica\n",
    "    #len(x2_varios)\n",
    "    #print(x2_varios)\n",
    "    fin=time.time() #--- medir el tiempo final\n",
    "    #print('para T=',T,' n=',n,'ciclos=', np2)\n",
    "    #print('tiempo(segundos) de generar los datos aleátorios',fin-inicio,'seg.')\n",
    "    a_est=[]\n",
    "    b_est=[]\n",
    "\n",
    "    inicio=time.time() #--- medir el tiempo inicio\n",
    "\n",
    "    for i in range(np2):\n",
    "        x2_temp=x2_varios[i,:]\n",
    "        xT=x2_temp[-1]\n",
    "        #print('xT=',xT)\n",
    "        #print('xT=',xT)\n",
    "        #print(x2_temp[nt-1])\n",
    "        Esti_a=EstimacionA(nobs,s,b,x0,xT,T,t,x2_temp)\n",
    "        Esti_b=EstimacionB(s,x0,xT,T,t,x2_temp)\n",
    "\n",
    "        #print(Esti_a*3)\n",
    "        a_est=np.append(a_est,Esti_a)\n",
    "        b_est=np.append(b_est,Esti_b)\n",
    "\n",
    "    #Resultados finales\n",
    "    a_techo=np.mean(a_est)\n",
    "    b_techo=np.mean(b_est)\n",
    "      \n",
    "    a_est2=[]\n",
    "    for i in range(np2):\n",
    "        x2_temp=x2_varios[i,:]\n",
    "        Esti_a2=EstimacionA(nobs,s,b_techo,x0,xT,T,t,x2_temp)\n",
    "        \n",
    "        #print(Esti_a*3)\n",
    "        a_est2=np.append(a_est2,Esti_a2)\n",
    "       \n",
    "    #Resultados finales\n",
    "    \n",
    "    a_techo2=np.mean(a_est2)\n",
    "    a_techo2_m=np.median(a_est2)\n",
    "    a_techo2_q=np.quantile(a_est2,0.75)\n",
    "    a_techo2_s=np.std(a_est2)\n",
    "\n",
    "    \n",
    "    #print('media=',a_techo2)\n",
    "    #print('mediana=',a_techo2_m)\n",
    "    #print('quartile=',a_techo2_q)\n",
    "    #print('std=',a_techo2_s)\n",
    "    \n",
    "    \n",
    "    fin=time.time() #--- medir el tiempo final\n",
    "    tardanza=fin-inicio\n",
    "    #print('----------------')\n",
    "    #print('para T=',T,' n=',n,'ciclos=', np2)\n",
    "    #print('tiempo(segundos) de estimar a techo y calcular su media=',fin-inicio,'seg.')\n",
    "    \n",
    "    #x3=estocasticax(a_techo,s,b,T,n,x0,t)\n",
    "    #plt.plot(t,x,'r-')\n",
    "    #plt.plot(t,x3,'o')\n",
    "    #print('resultados')\n",
    "    #print('a,b,s,n,T,a_techo,b_techo,a_techo2,dif_a,tardanza')\n",
    "    dif_a=a_techo-a_techo2\n",
    "    return nobs,a,b,s,n,T,a_techo,b_techo,a_techo2,dif_a,np2,a_techo2_m,a_techo2_q,a_techo2_s,tardanza\n",
    "    "
   ]
  },
  {
   "cell_type": "code",
   "execution_count": 9,
   "id": "dd54f34d",
   "metadata": {},
   "outputs": [],
   "source": [
    "import pandas as pd"
   ]
  },
  {
   "cell_type": "markdown",
   "id": "20a15290",
   "metadata": {},
   "source": [
    "\n"
   ]
  },
  {
   "cell_type": "markdown",
   "id": "15419d1c",
   "metadata": {},
   "source": []
  },
  {
   "cell_type": "markdown",
   "id": "97e6a967",
   "metadata": {},
   "source": [
    "# Main Program"
   ]
  },
  {
   "cell_type": "code",
   "execution_count": 10,
   "id": "8b973c9e",
   "metadata": {},
   "outputs": [],
   "source": []
  },
  {
   "cell_type": "code",
   "execution_count": 11,
   "id": "eef722c1",
   "metadata": {},
   "outputs": [],
   "source": []
  },
  {
   "cell_type": "code",
   "execution_count": 12,
   "id": "a0e0ca12",
   "metadata": {},
   "outputs": [],
   "source": [
    "nobs=0.005\n",
    "a=0.8\n",
    "x0=0.5\n",
    "T=30\n",
    "n=128\n",
    "np2=500 #ciclos"
   ]
  },
  {
   "cell_type": "markdown",
   "id": "821a5f35",
   "metadata": {},
   "source": [
    "s1=[0,0.025,0.1,0.5,1.,1.1,1.2,1.3,1.4,1.5,2.]"
   ]
  },
  {
   "cell_type": "code",
   "execution_count": 15,
   "id": "591f650a",
   "metadata": {},
   "outputs": [],
   "source": [
    "s1=[0,0.025,0.1,0.2,0.4,0.5,0.6,0.7,0.8,1.0,1.2]"
   ]
  },
  {
   "cell_type": "markdown",
   "id": "7e0a6bb6",
   "metadata": {},
   "source": [
    "b1=[0.01,0.02,0.03,0.04,0.05,0.06,0.07,0.08,0.09,0.10,\n",
    "    0.11,0.12,0.13,0.14,0.15,0.16,0.17,0.18,0.19,0.20,\n",
    "    0.21,0.22,0.23,0.24,0.25,0.26,0.27,0.28,0.29,0.30,\n",
    "    0.31,0.32,0.33,0.34,0.35,0.36,0.37,0.38,0.39,0.40,\n",
    "    0.41,0.42,0.43,0.44,0.45,0.46,0.47,0.48,0.49,0.50,\n",
    "    0.51,0.52,0.53,0.54,0.55,0.56,0.57,0.58,0.59,0.60,\n",
    "    0.61,0.62,0.63,0.64,0.65,0.66,0.67,0.68,0.69,0.70]"
   ]
  },
  {
   "cell_type": "code",
   "execution_count": 16,
   "id": "50874552",
   "metadata": {},
   "outputs": [
    {
     "name": "stdout",
     "output_type": "stream",
     "text": [
      "[0.001      0.00907071 0.01714141 0.02521212 0.03328283 0.04135354\n",
      " 0.04942424 0.05749495 0.06556566 0.07363636 0.08170707 0.08977778\n",
      " 0.09784848 0.10591919 0.1139899  0.12206061 0.13013131 0.13820202\n",
      " 0.14627273 0.15434343 0.16241414 0.17048485 0.17855556 0.18662626\n",
      " 0.19469697 0.20276768 0.21083838 0.21890909 0.2269798  0.23505051\n",
      " 0.24312121 0.25119192 0.25926263 0.26733333 0.27540404 0.28347475\n",
      " 0.29154545 0.29961616 0.30768687 0.31575758 0.32382828 0.33189899\n",
      " 0.3399697  0.3480404  0.35611111 0.36418182 0.37225253 0.38032323\n",
      " 0.38839394 0.39646465 0.40453535 0.41260606 0.42067677 0.42874747\n",
      " 0.43681818 0.44488889 0.4529596  0.4610303  0.46910101 0.47717172\n",
      " 0.48524242 0.49331313 0.50138384 0.50945455 0.51752525 0.52559596\n",
      " 0.53366667 0.54173737 0.54980808 0.55787879 0.56594949 0.5740202\n",
      " 0.58209091 0.59016162 0.59823232 0.60630303 0.61437374 0.62244444\n",
      " 0.63051515 0.63858586 0.64665657 0.65472727 0.66279798 0.67086869\n",
      " 0.67893939 0.6870101  0.69508081 0.70315152 0.71122222 0.71929293\n",
      " 0.72736364 0.73543434 0.74350505 0.75157576 0.75964646 0.76771717\n",
      " 0.77578788 0.78385859 0.79192929 0.8       ]\n"
     ]
    }
   ],
   "source": [
    "b1=np.linspace(0.001,0.8,100)\n",
    "print(b1)\n"
   ]
  },
  {
   "cell_type": "code",
   "execution_count": 17,
   "id": "303d383b",
   "metadata": {
    "scrolled": false
   },
   "outputs": [
    {
     "name": "stdout",
     "output_type": "stream",
     "text": [
      "0\n",
      "0.025\n",
      "0.1\n",
      "0.2\n",
      "0.4\n",
      "0.5\n",
      "0.6\n",
      "0.7\n",
      "0.8\n",
      "1.0\n",
      "1.2\n",
      "ya acabe\n"
     ]
    }
   ],
   "source": [
    "obs=0.005\n",
    "a=0.8\n",
    "x0=0.5\n",
    "T=30\n",
    "n=128\n",
    "np2=500 #ciclos\n",
    "\n",
    "datosfinales08=np.zeros([11,100,15])\n",
    "for i in range(11): #ciclo para s, variando s desde 0, hasta 1\n",
    "    s=s1[i]\n",
    "    print(s)\n",
    "    for k in range(100): # ciclo para b, Variando a desde 0.1 a 0.85 de 0.05\n",
    "        #print('i=',i,'k=',k,'s=',s,'b=',b)\n",
    "        b=b1[k]\n",
    "        datos_temporal=DatosGeneradosEstimacion_ABS(nobs,a,s,b,x0,T,n,np2)\n",
    "        datosfinales08[i,k,:]=datos_temporal # i es para s, # k es para b, # tiempo\n",
    "        #print(b)\n",
    "    \n",
    "\n",
    "np.save('datosF_MBBG_nobs_005_28junio2024.npy',np.array(datosfinales08))#mas puntos en la zona adecuada\n"
   ]
  },
  {
   "cell_type": "code",
   "execution_count": 18,
   "id": "1f7e5f48",
   "metadata": {
    "scrolled": false
   },
   "outputs": [
    {
     "name": "stdout",
     "output_type": "stream",
     "text": [
      "0\n",
      "0.025\n",
      "0.1\n",
      "0.2\n",
      "0.4\n",
      "0.5\n",
      "0.6\n",
      "0.7\n",
      "0.8\n",
      "1.0\n",
      "1.2\n",
      "ya acabe\n"
     ]
    }
   ],
   "source": [
    "nobs=0.01\n",
    "a=0.8\n",
    "x0=0.5\n",
    "T=30\n",
    "n=128\n",
    "np2=500 #ciclos\n",
    "\n",
    "datosfinales08=np.zeros([11,100,15])\n",
    "for i in range(11): #ciclo para s, variando s desde 0, hasta 1\n",
    "    s=s1[i]\n",
    "    print(s)\n",
    "    for k in range(100): # ciclo para b, Variando a desde 0.1 a 0.85 de 0.05\n",
    "        #print('i=',i,'k=',k,'s=',s,'b=',b)\n",
    "        b=b1[k]\n",
    "        datos_temporal=DatosGeneradosEstimacion_ABS(nobs,a,s,b,x0,T,n,np2)\n",
    "        datosfinales08[i,k,:]=datos_temporal # i es para s, # k es para b, # tiempo\n",
    "        #print(b)\n",
    "    \n",
    "np.save('datosF_MBBG_nobs_01_28junio2024.npy',np.array(datosfinales08))\n",
    "print('ya acabe')"
   ]
  },
  {
   "cell_type": "code",
   "execution_count": 19,
   "id": "a1d0b722",
   "metadata": {
    "scrolled": false
   },
   "outputs": [
    {
     "name": "stdout",
     "output_type": "stream",
     "text": [
      "0\n",
      "0.025\n",
      "0.1\n",
      "0.2\n",
      "0.4\n",
      "0.5\n",
      "0.6\n",
      "0.7\n",
      "0.8\n",
      "1.0\n",
      "1.2\n",
      "ya acabe\n"
     ]
    }
   ],
   "source": [
    "nobs=0.05\n",
    "a=0.8\n",
    "x0=0.5\n",
    "T=30\n",
    "n=128\n",
    "np2=500 #ciclos\n",
    "\n",
    "\n",
    "datosfinales08=np.zeros([11,100,15])\n",
    "for i in range(11): #ciclo para s, variando s desde 0, hasta 1\n",
    "    s=s1[i]\n",
    "    print(s)\n",
    "    for k in range(100): # ciclo para b, Variando a desde 0.1 a 0.85 de 0.05\n",
    "        #print('i=',i,'k=',k,'s=',s,'b=',b)\n",
    "        b=b1[k]\n",
    "        datos_temporal=DatosGeneradosEstimacion_ABS(nobs,a,s,b,x0,T,n,np2)\n",
    "        datosfinales08[i,k,:]=datos_temporal # i es para s, # k es para b, # tiempo\n",
    "        #print(b)\n",
    "    \n",
    "np.save('datosF_MBBG_nobs_05_28junio2024.npy',np.array(datosfinales08))\n",
    "print('ya acabe')"
   ]
  },
  {
   "cell_type": "code",
   "execution_count": 20,
   "id": "514bc0d7",
   "metadata": {},
   "outputs": [
    {
     "name": "stdout",
     "output_type": "stream",
     "text": [
      "0\n",
      "0.025\n",
      "0.1\n",
      "0.2\n",
      "0.4\n",
      "0.5\n",
      "0.6\n",
      "0.7\n",
      "0.8\n",
      "1.0\n",
      "1.2\n",
      "ya acabe\n"
     ]
    }
   ],
   "source": [
    "nobs=0.1\n",
    "a=0.8\n",
    "x0=0.5\n",
    "T=30\n",
    "n=128\n",
    "np2=500 #ciclos\n",
    "\n",
    "datosfinales08=np.zeros([11,100,15])\n",
    "for i in range(11): #ciclo para s, variando s desde 0, hasta 1\n",
    "    s=s1[i]\n",
    "    print(s)\n",
    "    for k in range(100): # ciclo para b, Variando a desde 0.1 a 0.85 de 0.05\n",
    "        #print('i=',i,'k=',k,'s=',s,'b=',b)\n",
    "        b=b1[k]\n",
    "        datos_temporal=DatosGeneradosEstimacion_ABS(nobs,a,s,b,x0,T,n,np2)\n",
    "        datosfinales08[i,k,:]=datos_temporal # i es para s, # k es para b, # tiempo\n",
    "        #print(b)\n",
    "    \n",
    "\n",
    "np.save('datosF_MBBG_nobs_1_28junio2024.npy',np.array(datosfinales08))\n",
    "print('ya acabe')"
   ]
  },
  {
   "cell_type": "code",
   "execution_count": 21,
   "id": "2067fbe5",
   "metadata": {
    "scrolled": false
   },
   "outputs": [
    {
     "name": "stdout",
     "output_type": "stream",
     "text": [
      "0\n",
      "0.025\n",
      "0.1\n",
      "0.2\n",
      "0.4\n",
      "0.5\n",
      "0.6\n",
      "0.7\n",
      "0.8\n",
      "1.0\n",
      "1.2\n",
      "ya acabe\n"
     ]
    }
   ],
   "source": [
    "nobs=0.5\n",
    "a=0.8\n",
    "x0=0.5\n",
    "T=30\n",
    "n=128\n",
    "np2=500 #ciclos\n",
    "\n",
    "datosfinales08=np.zeros([11,100,15])\n",
    "for i in range(11): #ciclo para s, variando s desde 0, hasta 1\n",
    "    s=s1[i]\n",
    "    print(s)\n",
    "    for k in range(100): # ciclo para b, Variando a desde 0.1 a 0.85 de 0.05\n",
    "        #print('i=',i,'k=',k,'s=',s,'b=',b)\n",
    "        b=b1[k]\n",
    "        datos_temporal=DatosGeneradosEstimacion_ABS(nobs,a,s,b,x0,T,n,np2)\n",
    "        datosfinales08[i,k,:]=datos_temporal # i es para s, # k es para b, # tiempo\n",
    "        #print(b)\n",
    "    \n",
    "\n",
    "np.save('datosF_MBBG_nobs_5_28junio2024.npy',np.array(datosfinales08))\n",
    "print('ya acabe')"
   ]
  },
  {
   "cell_type": "code",
   "execution_count": null,
   "id": "ad50cd27",
   "metadata": {},
   "outputs": [],
   "source": []
  },
  {
   "cell_type": "code",
   "execution_count": null,
   "id": "6917414b",
   "metadata": {},
   "outputs": [],
   "source": []
  }
 ],
 "metadata": {
  "kernelspec": {
   "display_name": "Python 3 (ipykernel)",
   "language": "python",
   "name": "python3"
  },
  "language_info": {
   "codemirror_mode": {
    "name": "ipython",
    "version": 3
   },
   "file_extension": ".py",
   "mimetype": "text/x-python",
   "name": "python",
   "nbconvert_exporter": "python",
   "pygments_lexer": "ipython3",
   "version": "3.11.5"
  }
 },
 "nbformat": 4,
 "nbformat_minor": 5
}
